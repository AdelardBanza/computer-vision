{
 "cells": [
  {
   "cell_type": "markdown",
   "metadata": {},
   "source": [
    "# OpenCV functions for manipulating images\n",
    "\n",
    "- Image I/O operations\n",
    "- Image Properties \n",
    "- Creating new images, accessing pixels and region of interest"
   ]
  },
  {
   "cell_type": "markdown",
   "metadata": {},
   "source": [
    "### Import libraries"
   ]
  },
  {
   "cell_type": "code",
   "execution_count": 1,
   "metadata": {},
   "outputs": [],
   "source": [
    "# import libraries\n",
    "import cv2\n",
    "import numpy as np\n",
    "from dataPath import DATA_PATH\n",
    "import matplotlib as mpl\n",
    "import matplotlib.pyplot as plt\n",
    "%matplotlib inline"
   ]
  },
  {
   "cell_type": "code",
   "execution_count": 2,
   "metadata": {},
   "outputs": [],
   "source": [
    "mpl.rcParams['figure.figsize'] = (6.0, 6.0)\n",
    "mpl.rcParams['image.cmap'] = 'gray'"
   ]
  },
  {
   "cell_type": "markdown",
   "metadata": {},
   "source": [
    "### Reading an Image"
   ]
  },
  {
   "cell_type": "markdown",
   "metadata": {},
   "source": [
    "OpenCV allows reading different types of images (JPG, PNG, etc). You can load grayscale images colour images or you can also load images with Alpha channel. It uses the imread function which has the following code syntax arguments:\n",
    "\n",
    "Reading function code Syntax arguments:\n",
    "\n",
    "cv2.imread(    filename[, flags]    )\n",
    "\n",
    "It has 2 arguments:\n",
    "\n",
    "- Path of the image file: This can be an absolute or relative path. \n",
    "- Flags (optional): These flags are used to read an image in a particular format. The default is 1. \n",
    "\n",
    "Flag types:\n",
    "\n",
    "- cv2.IMREAD_GRAYSCALE or 0: Loads image in grayscale mode\n",
    "- cv2.IMREAD_COLOR or 1: Loads a color image. Any transparency of image will be neglected. It is the default flag.\n",
    "- cv2.IMREAD_UNCHANGED or -1: Loads image as such including alpha channel."
   ]
  },
  {
   "cell_type": "code",
   "execution_count": 7,
   "metadata": {},
   "outputs": [
    {
     "name": "stdout",
     "output_type": "stream",
     "text": [
      "[[255 255 255 ... 255 255 255]\n",
      " [255 255 255 ... 255 255 255]\n",
      " [255 255 255 ... 255 255 255]\n",
      " ...\n",
      " [255 255 255 ... 255 255 255]\n",
      " [255 255 255 ... 255 255 255]\n",
      " [255 255 255 ... 255 255 255]]\n"
     ]
    }
   ],
   "source": [
    "image_path = DATA_PATH + \"/images/number_four.png\"\n",
    "\n",
    "# Read image in Grayscale format, cv2.IMREAD_GRAYSCALE or 0:\n",
    "sample_image = cv2.imread(image_path,0)\n",
    "print(sample_mage)"
   ]
  },
  {
   "cell_type": "markdown",
   "metadata": {},
   "source": [
    "### Intensity "
   ]
  },
  {
   "cell_type": "markdown",
   "metadata": {},
   "source": [
    "The values printed above are the intensity values of each pixel.\n",
    "\n",
    "0 means black pixel and as the value increases, it moves towards white. A value of 255 is a white pixel.\n",
    "\n",
    "### Image Properties"
   ]
  },
  {
   "cell_type": "code",
   "execution_count": 8,
   "metadata": {},
   "outputs": [
    {
     "name": "stdout",
     "output_type": "stream",
     "text": [
      "Data type = uint8\n",
      "\n",
      "Object type = <class 'numpy.ndarray'>\n",
      "\n",
      "Dimension of the image = (138, 130)\n",
      "\n"
     ]
    }
   ],
   "source": [
    "print(\"Data type = {}\\n\".format(sample_image.dtype))\n",
    "print(\"Object type = {}\\n\".format(type(sample_image)))\n",
    "print(\"Dimension of the image = {}\\n\".format(sample_image.shape))"
   ]
  },
  {
   "cell_type": "markdown",
   "metadata": {},
   "source": [
    "- From the above output, we can see that the datatype is an unsigned int of 8 bit\n",
    "- The image is 2D numpy array with values from 0 - 255\n",
    "- The image resolution is 138 x 130 (height x width) or 138 rows and 130 columns\n",
    "\n",
    "Also, in OpenCV, size is a tuple of width x height (columns, rows). In numpy, the shape method returns size as a tuple of height x width"
   ]
  },
  {
   "cell_type": "code",
   "execution_count": null,
   "metadata": {},
   "outputs": [],
   "source": []
  }
 ],
 "metadata": {
  "kernelspec": {
   "display_name": "Python 3",
   "language": "python",
   "name": "python3"
  },
  "language_info": {
   "codemirror_mode": {
    "name": "ipython",
    "version": 3
   },
   "file_extension": ".py",
   "mimetype": "text/x-python",
   "name": "python",
   "nbconvert_exporter": "python",
   "pygments_lexer": "ipython3",
   "version": "3.7.4"
  }
 },
 "nbformat": 4,
 "nbformat_minor": 2
}
