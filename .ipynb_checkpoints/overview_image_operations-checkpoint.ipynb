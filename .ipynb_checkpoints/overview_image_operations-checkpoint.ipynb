{
 "cells": [
  {
   "cell_type": "markdown",
   "metadata": {},
   "source": [
    "# OpenCV functions for manipulating images\n",
    "\n",
    "- Image I/O operations\n",
    "- Image Properties \n",
    "- Creating new images, accessing pixels and region of interest"
   ]
  },
  {
   "cell_type": "markdown",
   "metadata": {},
   "source": [
    "### Import libraries"
   ]
  },
  {
   "cell_type": "code",
   "execution_count": 1,
   "metadata": {},
   "outputs": [],
   "source": [
    "# import libraries\n",
    "import cv2\n",
    "import numpy as np\n",
    "from dataPath import DATA_PATH\n",
    "import matplotlib as mpl\n",
    "import matplotlib.pyplot as plt\n",
    "%matplotlib inline"
   ]
  },
  {
   "cell_type": "code",
   "execution_count": 2,
   "metadata": {},
   "outputs": [],
   "source": [
    "mpl.rcParams['figure.figsize'] = (6.0, 6.0)\n",
    "mpl.rcParams['image.cmap'] = 'gray'"
   ]
  },
  {
   "cell_type": "markdown",
   "metadata": {},
   "source": [
    "### Reading an Image"
   ]
  },
  {
   "cell_type": "markdown",
   "metadata": {},
   "source": [
    "OpenCV allows reading different types of images (JPG, PNG, etc). You can load grayscale images colour images or you can also load images with Alpha channel. It uses the imread function which has the following code syntax arguments:\n",
    "\n",
    "Reading function code Syntax arguments:\n",
    "\n",
    "cv2.imread(    filename[, flags]    )\n",
    "\n",
    "It has 2 arguments:\n",
    "\n",
    "- Path of the image file: This can be an absolute or relative path. \n",
    "- Flags (optional): These flags are used to read an image in a particular format. The default is 1. \n",
    "\n",
    "Flag types:\n",
    "\n",
    "- cv2.IMREAD_GRAYSCALE or 0: Loads image in grayscale mode\n",
    "- cv2.IMREAD_COLOR or 1: Loads a color image. Any transparency of image will be neglected. It is the default flag.\n",
    "- cv2.IMREAD_UNCHANGED or -1: Loads image as such including alpha channel."
   ]
  },
  {
   "cell_type": "code",
   "execution_count": 3,
   "metadata": {},
   "outputs": [
    {
     "name": "stdout",
     "output_type": "stream",
     "text": [
      "[[  1   0   3   0   3   0   3   2   4   2   0]\n",
      " [  0   1   0   3   3 253 253   0   0   2   1]\n",
      " [  0   0   8   0 249 255 255 253  71   1   5]\n",
      " [  3   0   2 251 255   2   0 253 254   0   2]\n",
      " [  1   5   0 252   4   0   3   0 255   4   0]\n",
      " [  0   0   2 255   0   0   0   3 253   0   4]\n",
      " [  0   5   4 249   4   2   0   0 255   1   0]\n",
      " [  2   0   0 255   3   0   5   0 254   0   4]\n",
      " [  0   0   0 255   1   0   0   3 255   0   0]\n",
      " [  1   5   0 252   2   2   2  76 250   7   0]\n",
      " [  0   0   5   0 254   0   0 255 254   0   1]\n",
      " [  0   8   0   3 253 253 255 250   1   2   1]\n",
      " [  2   0   0   0   5   0   4   1   3   0   0]]\n"
     ]
    }
   ],
   "source": [
    "image_path = DATA_PATH + \"/images/number_zero.jpg\"\n",
    "\n",
    "# Read image in Grayscale format, cv2.IMREAD_GRAYSCALE or 0:\n",
    "sample_image = cv2.imread(image_path,0)\n",
    "print(sample_image)"
   ]
  },
  {
   "cell_type": "markdown",
   "metadata": {},
   "source": [
    "### Intensity "
   ]
  },
  {
   "cell_type": "markdown",
   "metadata": {},
   "source": [
    "The values printed above are the intensity values of each pixel.\n",
    "\n",
    "0 means black pixel and as the value increases, it moves towards white. A value of 255 is a white pixel.\n",
    "\n",
    "### Image Properties"
   ]
  },
  {
   "cell_type": "code",
   "execution_count": 4,
   "metadata": {},
   "outputs": [
    {
     "name": "stdout",
     "output_type": "stream",
     "text": [
      "Data type = uint8\n",
      "\n",
      "Object type = <class 'numpy.ndarray'>\n",
      "\n",
      "Dimension of the image = (13, 11)\n",
      "\n"
     ]
    }
   ],
   "source": [
    "print(\"Data type = {}\\n\".format(sample_image.dtype))\n",
    "print(\"Object type = {}\\n\".format(type(sample_image)))\n",
    "print(\"Dimension of the image = {}\\n\".format(sample_image.shape))"
   ]
  },
  {
   "cell_type": "markdown",
   "metadata": {},
   "source": [
    "- From the above output, we can see that the datatype is an unsigned int of 8 bit\n",
    "- The image is 2D numpy array with values from 0 - 255\n",
    "- The image resolution is 13 x 11 (height x width) or 13 rows and 11 columns\n",
    "\n",
    "Also, in OpenCV, size is a tuple of width x height (columns, rows). In numpy, the shape method returns size as a tuple of height x width"
   ]
  },
  {
   "cell_type": "markdown",
   "metadata": {},
   "source": [
    "### Manipulating Pixels¶"
   ]
  },
  {
   "cell_type": "markdown",
   "metadata": {},
   "source": [
    "### Accessing Pixels"
   ]
  },
  {
   "cell_type": "markdown",
   "metadata": {},
   "source": [
    "In the sample image, we saw that the first pixel has a value of 1. Let us check it.\n",
    "\n",
    "Since this is a numpy array, we have zero-based indexing and we can access the first element using the index (0,0)."
   ]
  },
  {
   "cell_type": "code",
   "execution_count": 5,
   "metadata": {},
   "outputs": [
    {
     "name": "stdout",
     "output_type": "stream",
     "text": [
      "1\n"
     ]
    }
   ],
   "source": [
    "print(sample_image[0, 0])"
   ]
  },
  {
   "cell_type": "markdown",
   "metadata": {},
   "source": [
    "### Modifying pixel values\n",
    "\n",
    "We can modify the value of a pixel by simply change the value to the pixel as shown below."
   ]
  },
  {
   "cell_type": "code",
   "execution_count": 6,
   "metadata": {},
   "outputs": [
    {
     "name": "stdout",
     "output_type": "stream",
     "text": [
      "[[100   0   3   0   3   0   3   2   4   2   0]\n",
      " [  0   1   0   3   3 253 253   0   0   2   1]\n",
      " [  0   0   8   0 249 255 255 253  71   1   5]\n",
      " [  3   0   2 251 255   2   0 253 254   0   2]\n",
      " [  1   5   0 252   4   0   3   0 255   4   0]\n",
      " [  0   0   2 255   0   0   0   3 253   0   4]\n",
      " [  0   5   4 249   4   2   0   0 255   1   0]\n",
      " [  2   0   0 255   3   0   5   0 254   0   4]\n",
      " [  0   0   0 255   1   0   0   3 255   0   0]\n",
      " [  1   5   0 252   2   2   2  76 250   7   0]\n",
      " [  0   0   5   0 254   0   0 255 254   0   1]\n",
      " [  0   8   0   3 253 253 255 250   1   2   1]\n",
      " [  2   0   0   0   5   0   4   1   3   0   0]]\n"
     ]
    }
   ],
   "source": [
    "sample_image[0,0]=100\n",
    "print(sample_image)"
   ]
  },
  {
   "cell_type": "markdown",
   "metadata": {},
   "source": [
    "### Manipulating Group or region of Pixels using Python range based indexing\n",
    "\n",
    "\n",
    "### Access a region of interest"
   ]
  },
  {
   "cell_type": "code",
   "execution_count": 7,
   "metadata": {},
   "outputs": [
    {
     "name": "stdout",
     "output_type": "stream",
     "text": [
      "Original image\n",
      "[[100   0   3   0   3   0   3   2   4   2   0]\n",
      " [  0   1   0   3   3 253 253   0   0   2   1]\n",
      " [  0   0   8   0 249 255 255 253  71   1   5]\n",
      " [  3   0   2 251 255   2   0 253 254   0   2]\n",
      " [  1   5   0 252   4   0   3   0 255   4   0]\n",
      " [  0   0   2 255   0   0   0   3 253   0   4]\n",
      " [  0   5   4 249   4   2   0   0 255   1   0]\n",
      " [  2   0   0 255   3   0   5   0 254   0   4]\n",
      " [  0   0   0 255   1   0   0   3 255   0   0]\n",
      " [  1   5   0 252   2   2   2  76 250   7   0]\n",
      " [  0   0   5   0 254   0   0 255 254   0   1]\n",
      " [  0   8   0   3 253 253 255 250   1   2   1]\n",
      " [  2   0   0   0   5   0   4   1   3   0   0]]\n",
      "\n"
     ]
    }
   ],
   "source": [
    "region_of_interest = sample_image[0:2, 0:4]\n",
    "print(\"Original image\\n{}\\n\".format(sample_image))"
   ]
  },
  {
   "cell_type": "code",
   "execution_count": 8,
   "metadata": {},
   "outputs": [
    {
     "name": "stdout",
     "output_type": "stream",
     "text": [
      "Selected Region of interest\n",
      "[[100   0   3   0]\n",
      " [  0   1   0   3]]\n",
      "\n"
     ]
    }
   ],
   "source": [
    "print(\"Selected Region of interest\\n{}\\n\".format(region_of_interest))"
   ]
  },
  {
   "cell_type": "markdown",
   "metadata": {},
   "source": [
    "### Modifying region of interest"
   ]
  },
  {
   "cell_type": "code",
   "execution_count": 9,
   "metadata": {},
   "outputs": [
    {
     "name": "stdout",
     "output_type": "stream",
     "text": [
      "Modified image\n",
      "[[222 222 222 222   3   0   3   2   4   2   0]\n",
      " [222 222 222 222   3 253 253   0   0   2   1]\n",
      " [  0   0   8   0 249 255 255 253  71   1   5]\n",
      " [  3   0   2 251 255   2   0 253 254   0   2]\n",
      " [  1   5   0 252   4   0   3   0 255   4   0]\n",
      " [  0   0   2 255   0   0   0   3 253   0   4]\n",
      " [  0   5   4 249   4   2   0   0 255   1   0]\n",
      " [  2   0   0 255   3   0   5   0 254   0   4]\n",
      " [  0   0   0 255   1   0   0   3 255   0   0]\n",
      " [  1   5   0 252   2   2   2  76 250   7   0]\n",
      " [  0   0   5   0 254   0   0 255 254   0   1]\n",
      " [  0   8   0   3 253 253 255 250   1   2   1]\n",
      " [  2   0   0   0   5   0   4   1   3   0   0]]\n",
      "\n"
     ]
    }
   ],
   "source": [
    "sample_image[0:2,0:4] = 222\n",
    "print(\"Modified image\\n{}\\n\".format(sample_image))"
   ]
  },
  {
   "cell_type": "markdown",
   "metadata": {},
   "source": [
    "### Displaying an Image¶\n",
    "\n",
    "We use two functions for displaying an image.\n",
    "The display functions expect the images to be in the following format.\n",
    "\n",
    "- If the image is in float data type, the range of values should be between 0 and 1.\n",
    "- If the image is in int data type, he range of values should be between 0 and 255.\n",
    "\n",
    "### 1. Matplotlib's imshow\n",
    "- This function will be used when we want to display the image in Jupyter Notebook.\n",
    "\n",
    "Function Syntax argument\n",
    "- image    =    plt.imshow( image )\n",
    "- Parameters\n",
    "\n",
    "image - Image to be displayed."
   ]
  },
  {
   "cell_type": "code",
   "execution_count": 11,
   "metadata": {},
   "outputs": [
    {
     "data": {
      "image/png": "[encoded data removed]",
      "text/plain": [
       "<Figure size 432x432 with 2 Axes>"
      ]
     },
     "metadata": {
      "needs_background": "light"
     },
     "output_type": "display_data"
    }
   ],
   "source": [
    "plt.imshow(sample_image)\n",
    "plt.colorbar()\n",
    "\n",
    "plt.show()"
   ]
  },
  {
   "cell_type": "markdown",
   "metadata": {},
   "source": [
    "### 2. OpenCV's imshow¶\n",
    "This function is used when we are running the Python script from command line.\n",
    "\n",
    "- Function Syntax\n",
    "\n",
    "image    =    cv2.imshow(    window, image    )\n",
    "\n",
    "- Parameters\n",
    "\n",
    "window - Name of the window.\n",
    "image - Image to be displayed."
   ]
  },
  {
   "cell_type": "markdown",
   "metadata": {},
   "source": [
    "### Additional Display Utility Functions \n",
    "There are 4 more functions that are present in OpenCV which are commonly used with cv2.imshow function.\n",
    "\n",
    "### 1. cv2.namedWindow\n",
    "\n",
    "This function is used to create a display window with a specific name. This name is provided as the first argument of this function. The second argument is a flag which determines whether to resize the window to match the image size. The default autose. (cv2.WINDOW_NORMAL) and (cv2.WINDOW_AUTOSIZE - Default flag).\n",
    "\n",
    "Function Syntax\n",
    "\n",
    "image    =    cv2.namedWindow(    window[, flags]    )\n",
    "\n",
    "Parameters\n",
    "\n",
    "window - Name of the window in the window caption that may be used as an identifier.\n",
    "flags - Flags of the window. The supported flags are: (cv::WindowFlags)\n",
    "\n",
    "### 2. cv2.waitKey\n",
    "\n",
    "This is a keyboard binding function. Its only argument is time in milliseconds. The function waits for specified milliseconds for any keyboard event. If you press any key in that time, the program continues. If 0 is passed, it waits indefinitely for a key stroke. It can also be set to detect specific key strokes which can be quite useful in video processing applications.\n",
    "\n",
    "Function Syntax\n",
    "Docs\n",
    "\n",
    "waitkey    =    cv2.waitKey(    [, delay]    )\n",
    "Parameters\n",
    "\n",
    "delay - Delay in milliseconds. 0 is the special value that means \"forever\".\n",
    "\n",
    "### 3. cv2.destroyWindow\n",
    "\n",
    "This function is used to destroy or close a particular display window. The name of the window is provided as an argument to this function.\n",
    "\n",
    "Function Syntax\n",
    "\n",
    "destroywindow    =    cv2.destroyWindow(    window    )\n",
    "\n",
    "Parameters\n",
    "\n",
    "window - Name of the window to be destroyed\n",
    "\n",
    "### 4. cv2.destroyAllWindows\n",
    "\n",
    "This function is used to destroy all display windows. This function does not take any arguments.\n",
    "\n",
    "Function Syntax\n",
    "\n",
    "allwindows    =    cv2.destroyAllWindows(        )\n",
    "\n",
    "### Write the Image to Disk\n",
    "\n",
    "In most cases, you would want to save the output of your application. We do this using the imwrite function.\n",
    "\n",
    "Function Syntax\n",
    "\n",
    "imwrite    =    cv2.imwrite(    filename, image [, params]    )\n",
    "\n",
    "Parameters\n",
    "\n",
    "filename - String providing the relative or absolute path where the image should be saved.\n",
    "image - Image matrix to be saved.\n",
    "params - Additional information, like specifying the JPEG compression quality etc."
   ]
  },
  {
   "cell_type": "code",
   "execution_count": 12,
   "metadata": {},
   "outputs": [
    {
     "data": {
      "text/plain": [
       "True"
      ]
     },
     "execution_count": 12,
     "metadata": {},
     "output_type": "execute_result"
    }
   ],
   "source": [
    "cv2.imwrite(\"test_image.jpg\",sample_image)"
   ]
  },
  {
   "cell_type": "code",
   "execution_count": null,
   "metadata": {},
   "outputs": [],
   "source": []
  }
 ],
 "metadata": {
  "kernelspec": {
   "display_name": "Python 3",
   "language": "python",
   "name": "python3"
  },
  "language_info": {
   "codemirror_mode": {
    "name": "ipython",
    "version": 3
   },
   "file_extension": ".py",
   "mimetype": "text/x-python",
   "name": "python",
   "nbconvert_exporter": "python",
   "pygments_lexer": "ipython3",
   "version": "3.7.4"
  }
 },
 "nbformat": 4,
 "nbformat_minor": 2
}
